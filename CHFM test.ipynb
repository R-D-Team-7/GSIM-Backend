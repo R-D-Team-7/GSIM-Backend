{
 "cells": [
  {
   "cell_type": "code",
   "execution_count": 1,
   "id": "0b3f1296",
   "metadata": {},
   "outputs": [
    {
     "name": "stdout",
     "output_type": "stream",
     "text": [
      "Requirement already satisfied: opencv-python in c:\\users\\ryan\\anaconda3\\lib\\site-packages (4.10.0.84)\n",
      "Requirement already satisfied: numpy>=1.21.2 in c:\\users\\ryan\\anaconda3\\lib\\site-packages (from opencv-python) (1.24.3)\n",
      "Note: you may need to restart the kernel to use updated packages.\n"
     ]
    }
   ],
   "source": [
    "pip install opencv-python"
   ]
  },
  {
   "cell_type": "code",
   "execution_count": 2,
   "id": "13ff42a5",
   "metadata": {},
   "outputs": [
    {
     "name": "stdout",
     "output_type": "stream",
     "text": [
      "Chebyshev-Fourier Moments:\n",
      "[[ 4.89600000e+08-3.00351530e-08j -7.48067542e+05-6.13033157e+07j\n",
      "  -4.00114040e+08-1.53354136e+05j -1.64232306e+06+1.21004608e+08j\n",
      "   3.67796296e+08+2.98694104e+05j  2.58773195e+05-9.36801677e+07j]\n",
      " [ 3.36280234e+05-2.50091204e+07j -5.52436847e+06+4.03287570e+05j\n",
      "  -5.97848846e+05+1.39250477e+07j  1.02709036e+07+4.53681915e+04j\n",
      "   6.66301015e+05-6.40155763e+06j -7.51653972e+06+3.30137787e+05j]\n",
      " [-4.53088069e+08-8.34332623e+04j  1.90006149e+05+5.21114797e+07j\n",
      "   3.81294077e+08+1.76812347e+05j  1.10919963e+06-1.06245793e+08j\n",
      "  -3.53590019e+08-2.92205468e+05j -7.69438856e+05+9.37909695e+07j]\n",
      " [-1.11485166e+06+5.23608686e+07j  1.56906886e+07-1.80832874e+05j\n",
      "   6.94203264e+05-2.33536272e+07j -2.84900003e+07-1.07772175e+06j\n",
      "  -5.75178631e+05+8.41908566e+06j  2.33201296e+07-5.84364447e+04j]\n",
      " [ 4.26506107e+08+1.82497998e+05j  2.22778018e+05-4.77018933e+07j\n",
      "  -3.63924193e+08-1.82243166e+05j -7.99275366e+05+9.47580933e+07j\n",
      "   3.39780851e+08+2.48917568e+05j  1.17466312e+06-8.66586586e+07j]\n",
      " [ 1.74650706e+06-6.70162369e+07j -1.14828944e+07+4.10953648e+05j\n",
      "  -1.80772689e+06+4.60839225e+07j  2.09130642e+07+5.87121570e+05j\n",
      "   1.80830443e+06-3.56610048e+07j -1.82885125e+07+1.67815802e+05j]]\n"
     ]
    },
    {
     "data": {
      "image/png": "[encoded data removed]",
      "text/plain": [
       "<Figure size 640x480 with 2 Axes>"
      ]
     },
     "metadata": {},
     "output_type": "display_data"
    }
   ],
   "source": [
    "import numpy as np\n",
    "import cv2\n",
    "from scipy.special import eval_chebyt\n",
    "import matplotlib.pyplot as plt\n",
    "\n",
    "def compute_cfm(image, max_degree):\n",
    "    \"\"\"\n",
    "    Compute Chebyshev-Fourier moments (CFM) of an input image.\n",
    "    \n",
    "    Parameters:\n",
    "        image (2D numpy array): Grayscale image.\n",
    "        max_degree (int): Maximum degree of the Chebyshev polynomial.\n",
    "    \n",
    "    Returns:\n",
    "        cfm (2D numpy array): The computed Chebyshev-Fourier moments.\n",
    "    \"\"\"\n",
    "    rows, cols = image.shape\n",
    "    \n",
    "    # Normalize the image coordinates to the range [-1, 1]\n",
    "    x = np.linspace(-1, 1, cols)\n",
    "    y = np.linspace(-1, 1, rows)\n",
    "    X, Y = np.meshgrid(x, y)\n",
    "    \n",
    "    # Compute the Fourier transform of the image\n",
    "    F_image = np.fft.fft2(image)\n",
    "    F_image_shifted = np.fft.fftshift(F_image)  # Shift the zero frequency component to the center\n",
    "    \n",
    "    # Initialize an array to store the CFMs\n",
    "    cfm = np.zeros((max_degree + 1, max_degree + 1), dtype=np.complex128)\n",
    "    \n",
    "    # Loop over degrees for Chebyshev polynomials\n",
    "    for n in range(max_degree + 1):\n",
    "        for m in range(max_degree + 1):\n",
    "            # Compute the Chebyshev polynomial values\n",
    "            Tn_X = eval_chebyt(n, X)\n",
    "            Tm_Y = eval_chebyt(m, Y)\n",
    "            \n",
    "            # Compute the product of Chebyshev polynomials and the Fourier-transformed image\n",
    "            cfm[n, m] = np.sum(F_image_shifted * Tn_X * Tm_Y)\n",
    "    \n",
    "    return cfm\n",
    "\n",
    "image_path = \"IMG_0612.jpg\"\n",
    "image = cv2.imread(image_path, cv2.IMREAD_GRAYSCALE)\n",
    "\n",
    "# Define the maximum degree for Chebyshev polynomials\n",
    "max_degree = 5  # change depending on the desired precision\n",
    "\n",
    "cfm = compute_cfm(image, max_degree)\n",
    "\n",
    "print(\"Chebyshev-Fourier Moments:\")\n",
    "print(cfm)\n",
    "plt.imshow(np.abs(cfm), cmap='gray')\n",
    "plt.colorbar()\n",
    "plt.title('Chebyshev-Fourier Moments (Magnitude)')\n",
    "plt.show()\n"
   ]
  },
  {
   "cell_type": "code",
   "execution_count": null,
   "id": "51fad5f6",
   "metadata": {},
   "outputs": [],
   "source": []
  }
 ],
 "metadata": {
  "kernelspec": {
   "display_name": "base",
   "language": "python",
   "name": "python3"
  },
  "language_info": {
   "codemirror_mode": {
    "name": "ipython",
    "version": 3
   },
   "file_extension": ".py",
   "mimetype": "text/x-python",
   "name": "python",
   "nbconvert_exporter": "python",
   "pygments_lexer": "ipython3",
   "version": "3.11.5"
  }
 },
 "nbformat": 4,
 "nbformat_minor": 5
}
