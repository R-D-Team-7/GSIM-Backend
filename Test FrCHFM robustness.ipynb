{
 "cells": [
  {
   "cell_type": "code",
   "execution_count": 1,
   "id": "23e34921",
   "metadata": {},
   "outputs": [
    {
     "name": "stderr",
     "output_type": "stream",
     "text": [
      "[NbConvertApp] Converting notebook FrCHFM.ipynb to python\n",
      "[NbConvertApp] Writing 11080 bytes to FrCHFM.py\n"
     ]
    }
   ],
   "source": [
    "import numpy as np\n",
    "import cv2\n",
    "import matplotlib.pyplot as plt\n",
    "from FrCHFM import compute_frchfm_gpu, convert_to_polar, radial_basis_function_gpu\n",
    "import os\n",
    "from tqdm import tqdm\n",
    "import cupy as cp\n",
    "from concurrent.futures import ThreadPoolExecutor, as_completed"
   ]
  },
  {
   "cell_type": "code",
   "execution_count": 2,
   "id": "fc51e4b5",
   "metadata": {},
   "outputs": [],
   "source": [
    "def rotate_image_fixed_size(image, angle):\n",
    "\n",
    "    \"\"\"\n",
    "    Rotates the image by a given angle around its center, maintaining the original size with potential cropping.\n",
    "    Parameters:\n",
    "\n",
    "        image (numpy array): Input image to rotate.\n",
    "\n",
    "        angle (float): Angle by which to rotate the image.\n",
    "    Returns:\n",
    "        rotated_image (numpy array): Rotated image, constrained to original dimensions.\n",
    "    \"\"\"\n",
    "    (h, w) = image.shape[:2]\n",
    "    center = (w // 2, h // 2)\n",
    "\n",
    "    # Compute the rotation matrix and apply rotation\n",
    "    M = cv2.getRotationMatrix2D(center, angle, 1.0)\n",
    "    rotated_image = cv2.warpAffine(image, M, (w, h))\n",
    "\n",
    "    return rotated_image\n"
   ]
  },
  {
   "cell_type": "code",
   "execution_count": 3,
   "id": "0764efd8",
   "metadata": {},
   "outputs": [],
   "source": [
    "def compute_frchfm_difference(frchfm_original, frchfm_rotated):\n",
    "    \"\"\"\n",
    "    Calculates the mean absolute difference between the magnitudes of the original and rotated FrCHFM matrices.\n",
    "    \n",
    "    Parameters:\n",
    "        frchfm_original (2D numpy array): FrCHFM matrix of the original image.\n",
    "        frchfm_rotated (2D numpy array): FrCHFM matrix of the rotated image.\n",
    "        \n",
    "    Returns:\n",
    "        mean_difference (float): Mean absolute difference between the magnitudes.\n",
    "    \"\"\"\n",
    "    return np.mean(np.abs(np.abs(frchfm_original) - np.abs(frchfm_rotated)))"
   ]
  },
  {
   "cell_type": "code",
   "execution_count": 4,
   "id": "7a0151da",
   "metadata": {},
   "outputs": [],
   "source": [
    "def rotate_and_compare_gpu(image, max_degree, fractional_parameter_t, angles=[45, 90, 135, 180, 225, 270, 315, 360]):\n",
    "    \"\"\"\n",
    "    Rotates an image by specified angles, computes FrCHFM for each, and measures rotation invariance using GPU.\n",
    "    \n",
    "    Parameters:\n",
    "        image (numpy array): The original image to test.\n",
    "        max_degree (int): Maximum degree for the FrCHFM calculation.\n",
    "        fractional_parameter_t (float): Fractional parameter for FrCHFM.\n",
    "        angles (list): List of angles to rotate the image for testing.\n",
    "        \n",
    "    Returns:\n",
    "        results (dict): A dictionary where keys are angles and values are tuples (is_invariant, deviation).\n",
    "                        - `is_invariant` (bool): Whether the FrCHFM is invariant at this angle.\n",
    "                        - `deviation` (float): Mean absolute difference in FrCHFM magnitudes.\n",
    "    \"\"\"\n",
    "    # Transfer image to the GPU and compute FrCHFM for the original\n",
    "    frchfm_original = compute_frchfm_gpu(image, max_degree, fractional_parameter_t)\n",
    "    results = {}\n",
    "\n",
    "    for angle in angles:\n",
    "        # Rotate image on CPU and then transfer to GPU\n",
    "        rotated_image = rotate_image_fixed_size(image, angle)\n",
    "        frchfm_rotated = compute_frchfm_gpu(rotated_image, max_degree, fractional_parameter_t)\n",
    "\n",
    "        # Calculate the mean absolute difference as a measure of deviation (using GPU arrays)\n",
    "        deviation = cp.mean(cp.abs(cp.abs(cp.array(frchfm_original)) - cp.abs(cp.array(frchfm_rotated))))\n",
    "        \n",
    "        # Determine invariance by checking if deviation is within tolerance\n",
    "        is_invariant = deviation.get() < 1e-6  # .get() to bring the result back to CPU\n",
    "        results[angle] = (is_invariant, deviation.get())\n",
    "    \n",
    "    return results"
   ]
  },
  {
   "cell_type": "code",
   "execution_count": 5,
   "id": "bd06b161",
   "metadata": {},
   "outputs": [],
   "source": [
    "def test_rotation_invariance_parallel_gpu(images, max_degree, fractional_parameter_t, angles=[45, 90, 135, 180, 225, 270, 315, 360]):\n",
    "    \"\"\"\n",
    "    Tests rotation invariance for multiple images in parallel using GPU and calculates deviations.\n",
    "    \n",
    "    Parameters:\n",
    "        images (list of numpy arrays): List of images to test.\n",
    "        max_degree (int): Maximum degree for the FrCHFM calculation.\n",
    "        fractional_parameter_t (float): Fractional parameter for FrCHFM.\n",
    "        angles (list): List of angles to rotate each image for testing.\n",
    "        \n",
    "    Returns:\n",
    "        overall_results (dict): A dictionary where keys are image indices and values are dictionaries\n",
    "                                of angle results, each with (is_invariant, deviation).\n",
    "    \"\"\"\n",
    "    overall_results = {}\n",
    "    with ThreadPoolExecutor() as executor:\n",
    "        futures = {\n",
    "            executor.submit(rotate_and_compare_gpu, img, max_degree, fractional_parameter_t, angles): idx\n",
    "            for idx, img in enumerate(images)\n",
    "        }\n",
    "        \n",
    "        # Use tqdm to show progress\n",
    "        for future in tqdm(as_completed(futures), total=len(futures), desc=\"Processing Images\"):\n",
    "            idx = futures[future]\n",
    "            try:\n",
    "                result = future.result()\n",
    "                overall_results[idx] = result\n",
    "            except Exception as e:\n",
    "                print(f\"Image {idx} failed with exception: {e}\")\n",
    "    \n",
    "    return overall_results\n"
   ]
  },
  {
   "cell_type": "code",
   "execution_count": 6,
   "id": "31f10f11",
   "metadata": {},
   "outputs": [
    {
     "name": "stdout",
     "output_type": "stream",
     "text": [
      "test_convert_to_polar_rotation_consistency passed.\n"
     ]
    }
   ],
   "source": [
    "def test_convert_to_polar_rotation_consistency():\n",
    "    image = cv2.imread('cs4485-images/prompt_0_image_0.png', cv2.IMREAD_GRAYSCALE)\n",
    "    image_rotated_90 = cv2.rotate(image, cv2.ROTATE_90_CLOCKWISE)\n",
    "    \n",
    "    # Convert both images to polar coordinates\n",
    "    polar_image, r, theta = convert_to_polar(image)\n",
    "    polar_image_rotated, r_rotated, theta_rotated = convert_to_polar(image_rotated_90)\n",
    "    \n",
    "    # Check if radius (r) and theta values are consistent\n",
    "    assert np.allclose(r, r_rotated), \"Radius values differ across rotations.\"\n",
    "    assert np.allclose(theta, theta_rotated), \"Theta values differ across rotations.\"\n",
    "    print(\"test_convert_to_polar_rotation_consistency passed.\")\n",
    "    \n",
    "test_convert_to_polar_rotation_consistency()"
   ]
  },
  {
   "cell_type": "code",
   "execution_count": 7,
   "id": "fc2ad42b",
   "metadata": {},
   "outputs": [
    {
     "name": "stdout",
     "output_type": "stream",
     "text": [
      "test_radial_basis_function_symmetry_invariance passed.\n"
     ]
    }
   ],
   "source": [
    "def test_radial_basis_function_symmetry_invariance():\n",
    "    image = cv2.imread('cs4485-images/prompt_0_image_0.png', cv2.IMREAD_GRAYSCALE)\n",
    "\n",
    "    # Convert the original image to polar coordinates and extract radial values\n",
    "    polar_image, r, theta = convert_to_polar(image)\n",
    "    r_gpu = cp.array(r)\n",
    "\n",
    "    # Compute the radial basis function for the original orientation\n",
    "    Rtn_original = radial_basis_function_gpu(3, 0.5, r_gpu)\n",
    "\n",
    "    # Define rotation angles for eight-way symmetry (in degrees)\n",
    "    rotation_angles = [45, 90, 135, 180, 225, 270, 315, 360]\n",
    "\n",
    "    for angle in rotation_angles:\n",
    "        # Rotate the image and convert to polar coordinates\n",
    "        rotated_image = cv2.rotate(image, angle)\n",
    "        polar_image_rotated, r_rotated, _ = convert_to_polar(rotated_image)\n",
    "\n",
    "        # Compute the radial basis function for the rotated orientation\n",
    "        Rtn_rotated = radial_basis_function_gpu(3, 0.5, cp.array(r_rotated))\n",
    "\n",
    "        # Check for consistent output between original and rotated radial basis functions\n",
    "        assert np.allclose(Rtn_original.get(), Rtn_rotated.get(), atol=1e-3), \\\n",
    "            f\"Radial basis function is not invariant for {angle}° rotation.\"\n",
    "\n",
    "    print(\"test_radial_basis_function_symmetry_invariance passed.\")\n",
    "\n",
    "test_radial_basis_function_symmetry_invariance()"
   ]
  },
  {
   "cell_type": "code",
   "execution_count": 8,
   "id": "5af09a0a",
   "metadata": {},
   "outputs": [
    {
     "name": "stderr",
     "output_type": "stream",
     "text": [
      "Processing Images: 100%|█████████████████████████████████████████████████████████████████| 6/6 [00:00<00:00, 18.23it/s]\n"
     ]
    },
    {
     "name": "stdout",
     "output_type": "stream",
     "text": [
      "Max Degree:  1 {1: {45: (False, array(1464960.14440767)), 90: (False, array(2705528.59009041)), 135: (False, array(1445102.50472404)), 180: (False, array(849254.1911503)), 225: (False, array(1478270.70952193)), 270: (False, array(2932154.19705877)), 315: (False, array(1427132.24407754)), 360: (True, array(0.))}, 3: {45: (False, array(1773087.20420404)), 90: (False, array(4438792.39071422)), 135: (False, array(1767608.83576397)), 180: (False, array(1124526.57564563)), 225: (False, array(1777285.26802967)), 270: (False, array(3961447.97734632)), 315: (False, array(1764657.87189682)), 360: (True, array(0.))}, 4: {45: (False, array(1913398.28827563)), 90: (False, array(4645379.6587614)), 135: (False, array(1893650.4471091)), 180: (False, array(1286158.55825844)), 225: (False, array(1924562.26569)), 270: (False, array(4427296.29527345)), 315: (False, array(1884937.01020976)), 360: (True, array(0.))}, 5: {45: (False, array(2632491.72954712)), 90: (False, array(3334252.90393558)), 135: (False, array(2565193.28705225)), 180: (False, array(1874807.86227277)), 225: (False, array(2628187.97592832)), 270: (False, array(3168150.83892236)), 315: (False, array(2549190.34561799)), 360: (True, array(0.))}, 0: {45: (False, array(4197375.11097657)), 90: (False, array(1781585.91687981)), 135: (False, array(4199182.56985543)), 180: (False, array(3623826.44359263)), 225: (False, array(4195296.42521763)), 270: (False, array(1944156.55638454)), 315: (False, array(4178224.97787164)), 360: (True, array(0.))}, 2: {45: (False, array(2102505.9183148)), 90: (False, array(4409576.45587706)), 135: (False, array(2056509.48759942)), 180: (False, array(823368.65471753)), 225: (False, array(2104854.15398576)), 270: (False, array(4859035.69047238)), 315: (False, array(2046233.49950217)), 360: (True, array(0.))}}\n"
     ]
    },
    {
     "name": "stderr",
     "output_type": "stream",
     "text": [
      "Processing Images: 100%|█████████████████████████████████████████████████████████████████| 6/6 [00:00<00:00, 17.65it/s]\n"
     ]
    },
    {
     "name": "stdout",
     "output_type": "stream",
     "text": [
      "Max Degree:  2 {0: {45: (False, array(2468173.17188355)), 90: (False, array(2837250.87935813)), 135: (False, array(2491769.54339529)), 180: (False, array(2221990.9519612)), 225: (False, array(2471380.17042355)), 270: (False, array(4081400.87379171)), 315: (False, array(2511761.68406213)), 360: (True, array(0.))}, 3: {45: (False, array(2446305.32199574)), 90: (False, array(5916180.57895756)), 135: (False, array(2460354.1182006)), 180: (False, array(1707144.15572476)), 225: (False, array(2447329.48369341)), 270: (False, array(5920841.98649042)), 315: (False, array(2461123.0699429)), 360: (True, array(0.))}, 2: {45: (False, array(1990372.89983994)), 90: (False, array(7005800.41022846)), 135: (False, array(2006525.32946473)), 180: (False, array(1913364.85113807)), 225: (False, array(1988310.69783028)), 270: (False, array(7868637.72284445)), 315: (False, array(2023163.45631107)), 360: (True, array(0.))}, 4: {45: (False, array(1406481.55428919)), 90: (False, array(6592917.6045664)), 135: (False, array(1399468.57787914)), 180: (False, array(2175151.13168198)), 225: (False, array(1399651.57340089)), 270: (False, array(7566482.73006721)), 315: (False, array(1404420.97805658)), 360: (True, array(0.))}, 5: {45: (False, array(3234423.72987974)), 90: (False, array(4006035.90760753)), 135: (False, array(3334733.31738742)), 180: (False, array(1647576.81378179)), 225: (False, array(3186801.83938321)), 270: (False, array(4021104.07307487)), 315: (False, array(3273064.98801864)), 360: (True, array(0.))}, 1: {45: (False, array(1255941.05289517)), 90: (False, array(5248133.79496882)), 135: (False, array(1354893.27992484)), 180: (False, array(1366771.96495132)), 225: (False, array(1207597.13053445)), 270: (False, array(5834780.27507685)), 315: (False, array(1333733.30274022)), 360: (True, array(0.))}}\n"
     ]
    },
    {
     "name": "stderr",
     "output_type": "stream",
     "text": [
      "Processing Images: 100%|█████████████████████████████████████████████████████████████████| 6/6 [00:00<00:00, 12.49it/s]\n"
     ]
    },
    {
     "name": "stdout",
     "output_type": "stream",
     "text": [
      "Max Degree:  3 {1: {45: (False, array(1631213.58787605)), 90: (False, array(3936464.77727497)), 135: (False, array(1703731.51107862)), 180: (False, array(2592565.12449337)), 225: (False, array(1642259.73062252)), 270: (False, array(4429783.60266627)), 315: (False, array(1693325.91215161)), 360: (True, array(0.))}, 3: {45: (False, array(2226903.85939979)), 90: (False, array(4444024.63750948)), 135: (False, array(2243301.72049777)), 180: (False, array(2656886.36649438)), 225: (False, array(2232515.80923666)), 270: (False, array(4608056.72547232)), 315: (False, array(2238555.19798139)), 360: (True, array(0.))}, 4: {45: (False, array(1665071.182484)), 90: (False, array(4331332.86167391)), 135: (False, array(1699211.91351257)), 180: (False, array(2956929.40828654)), 225: (False, array(1602776.59058014)), 270: (False, array(5283652.47039464)), 315: (False, array(1737187.2067235)), 360: (True, array(0.))}, 5: {45: (False, array(2954298.80969581)), 90: (False, array(3247182.20324937)), 135: (False, array(3107857.27498742)), 180: (False, array(2180562.44426284)), 225: (False, array(2892320.34999889)), 270: (False, array(3055708.44845106)), 315: (False, array(3041444.88807094)), 360: (True, array(0.))}, 0: {45: (False, array(2033257.26477605)), 90: (False, array(2454571.01536944)), 135: (False, array(2082314.67140489)), 180: (False, array(2432896.63520654)), 225: (False, array(2046650.82717574)), 270: (False, array(3687719.92721162)), 315: (False, array(2115879.46334478)), 360: (True, array(0.))}, 2: {45: (False, array(1894877.07727809)), 90: (False, array(4452910.27581376)), 135: (False, array(2038106.37263196)), 180: (False, array(2953529.34806531)), 225: (False, array(1921977.13153568)), 270: (False, array(5661051.56113185)), 315: (False, array(2036573.75157288)), 360: (True, array(0.))}}\n"
     ]
    },
    {
     "name": "stderr",
     "output_type": "stream",
     "text": [
      "Processing Images: 100%|█████████████████████████████████████████████████████████████████| 6/6 [00:00<00:00, 10.08it/s]\n"
     ]
    },
    {
     "name": "stdout",
     "output_type": "stream",
     "text": [
      "Max Degree:  4 {3: {45: (False, array(2525725.77990267)), 90: (False, array(4177392.01518105)), 135: (False, array(2544364.78799752)), 180: (False, array(10452864.88585532)), 225: (False, array(2498070.87428215)), 270: (False, array(4237313.2859824)), 315: (False, array(2531632.836416)), 360: (True, array(0.))}, 5: {45: (False, array(3058793.8512468)), 90: (False, array(3151184.05315877)), 135: (False, array(3297109.65492904)), 180: (False, array(8078484.56675665)), 225: (False, array(3043204.66390406)), 270: (False, array(3119932.25942915)), 315: (False, array(3282870.006079)), 360: (True, array(0.))}, 0: {45: (False, array(2533548.44568785)), 90: (False, array(2664297.12746378)), 135: (False, array(2570230.53468483)), 180: (False, array(4305657.57226721)), 225: (False, array(2550902.57062302)), 270: (False, array(3827344.30261015)), 315: (False, array(2627475.48572596)), 360: (True, array(0.))}, 1: {45: (False, array(2027649.05948032)), 90: (False, array(3621820.147993)), 135: (False, array(2161796.55698882)), 180: (False, array(8787102.57704671)), 225: (False, array(1974096.29412154)), 270: (False, array(3870977.34155847)), 315: (False, array(2146890.68698578)), 360: (True, array(0.))}, 2: {45: (False, array(1972436.5503759)), 90: (False, array(4611939.07708201)), 135: (False, array(2038042.73419022)), 180: (False, array(11224816.97413877)), 225: (False, array(1953758.96538578)), 270: (False, array(5019631.20563869)), 315: (False, array(2038844.98750976)), 360: (True, array(0.))}, 4: {45: (False, array(1923482.09183593)), 90: (False, array(4063386.2959679)), 135: (False, array(1889370.79709311)), 180: (False, array(10742963.07575736)), 225: (False, array(1927372.65833299)), 270: (False, array(4528628.10696391)), 315: (False, array(1927935.04608339)), 360: (True, array(0.))}}\n"
     ]
    },
    {
     "name": "stderr",
     "output_type": "stream",
     "text": [
      "Processing Images: 100%|█████████████████████████████████████████████████████████████████| 6/6 [00:00<00:00,  7.94it/s]\n"
     ]
    },
    {
     "name": "stdout",
     "output_type": "stream",
     "text": [
      "Max Degree:  5 {4: {45: (False, array(1752855.64348764)), 90: (False, array(3159438.72687631)), 135: (False, array(1750439.9228952)), 180: (False, array(12108334.2867292)), 225: (False, array(1799444.28493205)), 270: (False, array(3762303.40134613)), 315: (False, array(1777926.44921371)), 360: (True, array(0.))}, 0: {45: (False, array(2471303.65096653)), 90: (False, array(2616284.24405334)), 135: (False, array(2591214.04047411)), 180: (False, array(5154355.40099041)), 225: (False, array(2508250.33478279)), 270: (False, array(4415646.12497546)), 315: (False, array(2578703.06284948)), 360: (True, array(0.))}, 1: {45: (False, array(1945186.99760449)), 90: (False, array(3057659.9628074)), 135: (False, array(2128936.0295643)), 180: (False, array(10161919.68954696)), 225: (False, array(2017323.62572922)), 270: (False, array(3287695.10821026)), 315: (False, array(2100981.78125286)), 360: (True, array(0.))}, 2: {45: (False, array(2101723.30803168)), 90: (False, array(3859438.99431021)), 135: (False, array(2250134.64507319)), 180: (False, array(12542447.49856944)), 225: (False, array(2087688.18667988)), 270: (False, array(4106111.47482667)), 315: (False, array(2224697.54006905)), 360: (True, array(0.))}, 3: {45: (False, array(2460790.38419813)), 90: (False, array(3308560.38077383)), 135: (False, array(2434184.99533164)), 180: (False, array(11645459.02709348)), 225: (False, array(2465515.57907993)), 270: (False, array(3472091.44922026)), 315: (False, array(2419005.60198655)), 360: (True, array(0.))}, 5: {45: (False, array(3488766.37517225)), 90: (False, array(2831392.532065)), 135: (False, array(3744154.95670673)), 180: (False, array(9400696.4476279)), 225: (False, array(3505393.55230394)), 270: (False, array(3050733.84657495)), 315: (False, array(3695126.42815719)), 360: (True, array(0.))}}\n"
     ]
    },
    {
     "name": "stderr",
     "output_type": "stream",
     "text": [
      "Processing Images: 100%|█████████████████████████████████████████████████████████████████| 6/6 [00:00<00:00,  6.32it/s]"
     ]
    },
    {
     "name": "stdout",
     "output_type": "stream",
     "text": [
      "Max Degree:  6 {0: {45: (False, array(2688586.66967583)), 90: (False, array(2922548.68979545)), 135: (False, array(3043623.63388633)), 180: (False, array(6379675.02545401)), 225: (False, array(2719137.07506575)), 270: (False, array(5378682.47854553)), 315: (False, array(3088357.40332647)), 360: (True, array(0.))}, 1: {45: (False, array(2294352.20161125)), 90: (False, array(3311434.97088771)), 135: (False, array(2552807.94003482)), 180: (False, array(12980345.31019087)), 225: (False, array(2300803.85532789)), 270: (False, array(3386718.92544003)), 315: (False, array(2459255.12535604)), 360: (True, array(0.))}, 5: {45: (False, array(4336615.86053813)), 90: (False, array(3200532.35163351)), 135: (False, array(4819650.90056309)), 180: (False, array(11635654.18820832)), 225: (False, array(4342731.74013197)), 270: (False, array(3307553.64558163)), 315: (False, array(4820970.26748175)), 360: (True, array(0.))}, 4: {45: (False, array(1926204.0742261)), 90: (False, array(3104474.46036288)), 135: (False, array(2139552.10400121)), 180: (False, array(14689448.38102752)), 225: (False, array(1969243.01518089)), 270: (False, array(3873992.2657805)), 315: (False, array(2180421.69779707)), 360: (True, array(0.))}, 3: {45: (False, array(3114869.68977062)), 90: (False, array(3396756.5610068)), 135: (False, array(3016597.58246391)), 180: (False, array(14570188.7231784)), 225: (False, array(3127211.29923989)), 270: (False, array(3485616.74602708)), 315: (False, array(2967538.7232912)), 360: (True, array(0.))}, 2: {45: (False, array(2220329.45413362)), 90: (False, array(3817121.31269051)), 135: (False, array(2819251.23990904)), 180: (False, array(15439846.40414564)), 225: (False, array(2225084.95359598)), 270: (False, array(4390373.50130029)), 315: (False, array(2829591.03065298)), 360: (True, array(0.))}}\n"
     ]
    },
    {
     "name": "stderr",
     "output_type": "stream",
     "text": [
      "\n"
     ]
    }
   ],
   "source": [
    "# Directory containing the images\n",
    "image_folder = \"cs4485-images\"\n",
    "# Parameters for FrCHFM calculation\n",
    "max_degree = 5  # Change depending on desired precision\n",
    "fractional_parameter_t = 0.5  # Fractional parameter t\n",
    "\n",
    "\n",
    "# Load all images from the folder\n",
    "images = [cv2.imread(os.path.join(image_folder, filename), cv2.IMREAD_GRAYSCALE)\n",
    "          for filename in os.listdir(image_folder) if filename.endswith(('.png', '.jpg', '.jpeg'))][:6]\n",
    "\n",
    "# Run the parallel rotation invariance test\n",
    "#results = test_rotation_invariance_parallel_gpu(images, max_degree, fractional_parameter_t)\n",
    "for i in range(1, 7):\n",
    "    print(\"Max Degree: \",i,test_rotation_invariance_parallel_gpu(images, i, fractional_parameter_t))\n",
    "\n",
    "# Print the results\n",
    "#print(results)"
   ]
  },
  {
   "cell_type": "code",
   "execution_count": null,
   "id": "157be6e4",
   "metadata": {},
   "outputs": [],
   "source": []
  }
 ],
 "metadata": {
  "kernelspec": {
   "display_name": "Python 3 (ipykernel)",
   "language": "python",
   "name": "python3"
  },
  "language_info": {
   "codemirror_mode": {
    "name": "ipython",
    "version": 3
   },
   "file_extension": ".py",
   "mimetype": "text/x-python",
   "name": "python",
   "nbconvert_exporter": "python",
   "pygments_lexer": "ipython3",
   "version": "3.11.5"
  }
 },
 "nbformat": 4,
 "nbformat_minor": 5
}
