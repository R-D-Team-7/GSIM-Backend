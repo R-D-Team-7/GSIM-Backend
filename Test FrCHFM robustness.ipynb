{
 "cells": [
  {
   "cell_type": "code",
   "execution_count": 1,
   "id": "23e34921",
   "metadata": {},
   "outputs": [
    {
     "name": "stderr",
     "output_type": "stream",
     "text": [
      "[NbConvertApp] Converting notebook FrCHFM.ipynb to python\n",
      "[NbConvertApp] Writing 11089 bytes to FrCHFM.py\n"
     ]
    }
   ],
   "source": [
    "import numpy as np\n",
    "import cv2\n",
    "import matplotlib.pyplot as plt\n",
    "from FrCHFM import compute_frchfm_gpu\n",
    "import os\n",
    "from tqdm import tqdm\n",
    "import cupy as cp\n",
    "from concurrent.futures import ThreadPoolExecutor, as_completed"
   ]
  },
  {
   "cell_type": "code",
   "execution_count": 2,
   "id": "03645fa6",
   "metadata": {},
   "outputs": [],
   "source": [
    "def visualize_frchfm_matrices(original_frchfm, rotated_frchfm, angle):\n",
    "    \"\"\"\n",
    "    Visualizes the original and rotated FrCHFM matrices for comparison.\n",
    "    \n",
    "    Parameters:\n",
    "        original_frchfm (2D numpy array): FrCHFM matrix of the original image.\n",
    "        rotated_frchfm (2D numpy array): FrCHFM matrix of the rotated image.\n",
    "        angle (float): Rotation angle for labeling purposes.\n",
    "    \"\"\"\n",
    "    fig, axs = plt.subplots(1, 2, figsize=(10, 5))\n",
    "    fig.suptitle(f\"FrCHFM Comparison for Rotation {angle}°\")\n",
    "    \n",
    "    axs[0].imshow(np.abs(original_frchfm), cmap='viridis')\n",
    "    axs[0].set_title(\"Original FrCHFM Magnitude\")\n",
    "    axs[0].axis('off')\n",
    "    \n",
    "    axs[1].imshow(np.abs(rotated_frchfm), cmap='viridis')\n",
    "    axs[1].set_title(f\"Rotated FrCHFM Magnitude ({angle}°)\")\n",
    "    axs[1].axis('off')\n",
    "    \n",
    "    plt.show()"
   ]
  },
  {
   "cell_type": "code",
   "execution_count": 3,
   "id": "95c8cebe",
   "metadata": {},
   "outputs": [],
   "source": [
    "def test_frchfm_rotation_invariance_with_visuals(image, angles=[45, 90, 180]):\n",
    "    \"\"\"\n",
    "    Tests and visualizes the rotation invariance of Fractional Chebyshev-Fourier Moments (FrCHFM).\n",
    "    \n",
    "    Parameters:\n",
    "        image (numpy array): The original image to test.\n",
    "        calculate_frchfm (function): Function to calculate FrCHFM of an image.\n",
    "        angles (list): List of angles to rotate the image for testing.\n",
    "        \n",
    "    Returns:\n",
    "        results (dict): Dictionary where keys are angles and values are bools indicating invariance.\n",
    "    \"\"\"\n",
    "\n",
    "    frchfm_original = calculate_frchfm(image)\n",
    "    \n",
    "    results = {}\n",
    "    \n",
    "    # Plot the original image\n",
    "    plt.imshow(image, cmap='gray')\n",
    "    plt.title(\"Original Image\")\n",
    "    plt.axis('off')\n",
    "    plt.show()\n",
    "\n",
    "    for angle in angles:\n",
    "        # Rotate the image\n",
    "        rotated_image = rotate_image_fixed_size(image, angle)\n",
    "        \n",
    "        # Plot the rotated image\n",
    "        plt.imshow(rotated_image, cmap='gray')\n",
    "        plt.title(f\"Rotated Image ({angle}°)\")\n",
    "        plt.axis('off')\n",
    "        plt.show()\n",
    "        \n",
    "        # Calculate FrCHFM for the rotated image\n",
    "        frchfm_rotated = calculate_frchfm(rotated_image)\n",
    "        \n",
    "        # Visualize FrCHFM matrices for comparison\n",
    "        visualize_frchfm_matrices(frchfm_original, frchfm_rotated, angle)\n",
    "        \n",
    "        # Compare the original and rotated FrCHFM matrices\n",
    "        invariant = np.allclose(np.abs(frchfm_original), np.abs(frchfm_rotated), atol=1e-6)\n",
    "        \n",
    "        # Store the result for this angle\n",
    "        results[angle] = invariant\n",
    "    \n",
    "    return results"
   ]
  },
  {
   "cell_type": "code",
   "execution_count": 4,
   "id": "fc51e4b5",
   "metadata": {},
   "outputs": [],
   "source": [
    "def rotate_image_fixed_size(image, angle):\n",
    "\n",
    "    \"\"\"\n",
    "    Rotates the image by a given angle around its center, maintaining the original size with potential cropping.\n",
    "    Parameters:\n",
    "\n",
    "        image (numpy array): Input image to rotate.\n",
    "\n",
    "        angle (float): Angle by which to rotate the image.\n",
    "    Returns:\n",
    "        rotated_image (numpy array): Rotated image, constrained to original dimensions.\n",
    "    \"\"\"\n",
    "    (h, w) = image.shape[:2]\n",
    "    center = (w // 2, h // 2)\n",
    "\n",
    "    # Compute the rotation matrix and apply rotation\n",
    "    M = cv2.getRotationMatrix2D(center, angle, 1.0)\n",
    "    rotated_image = cv2.warpAffine(image, M, (w, h))\n",
    "\n",
    "    return rotated_image\n"
   ]
  },
  {
   "cell_type": "code",
   "execution_count": 5,
   "id": "0764efd8",
   "metadata": {},
   "outputs": [],
   "source": [
    "def compute_frchfm_difference(frchfm_original, frchfm_rotated):\n",
    "    \"\"\"\n",
    "    Calculates the mean absolute difference between the magnitudes of the original and rotated FrCHFM matrices.\n",
    "    \n",
    "    Parameters:\n",
    "        frchfm_original (2D numpy array): FrCHFM matrix of the original image.\n",
    "        frchfm_rotated (2D numpy array): FrCHFM matrix of the rotated image.\n",
    "        \n",
    "    Returns:\n",
    "        mean_difference (float): Mean absolute difference between the magnitudes.\n",
    "    \"\"\"\n",
    "    return np.mean(np.abs(np.abs(frchfm_original) - np.abs(frchfm_rotated)))"
   ]
  },
  {
   "cell_type": "code",
   "execution_count": 6,
   "id": "7a0151da",
   "metadata": {},
   "outputs": [],
   "source": [
    "def rotate_and_compare_gpu(image, max_degree, fractional_parameter_t, angles=[30, 45, 90, 180]):\n",
    "    \"\"\"\n",
    "    Rotates an image by specified angles, computes FrCHFM for each, and measures rotation invariance using GPU.\n",
    "    \n",
    "    Parameters:\n",
    "        image (numpy array): The original image to test.\n",
    "        max_degree (int): Maximum degree for the FrCHFM calculation.\n",
    "        fractional_parameter_t (float): Fractional parameter for FrCHFM.\n",
    "        angles (list): List of angles to rotate the image for testing.\n",
    "        \n",
    "    Returns:\n",
    "        results (dict): A dictionary where keys are angles and values are tuples (is_invariant, deviation).\n",
    "                        - `is_invariant` (bool): Whether the FrCHFM is invariant at this angle.\n",
    "                        - `deviation` (float): Mean absolute difference in FrCHFM magnitudes.\n",
    "    \"\"\"\n",
    "    # Transfer image to the GPU and compute FrCHFM for the original\n",
    "    frchfm_original = compute_frchfm_gpu(image, max_degree, fractional_parameter_t)\n",
    "    results = {}\n",
    "\n",
    "    for angle in angles:\n",
    "        # Rotate image on CPU and then transfer to GPU\n",
    "        rotated_image = rotate_image_fixed_size(image, angle)\n",
    "        frchfm_rotated = compute_frchfm_gpu(rotated_image, max_degree, fractional_parameter_t)\n",
    "\n",
    "        # Calculate the mean absolute difference as a measure of deviation (using GPU arrays)\n",
    "        deviation = cp.mean(cp.abs(cp.abs(cp.array(frchfm_original)) - cp.abs(cp.array(frchfm_rotated))))\n",
    "        \n",
    "        # Determine invariance by checking if deviation is within tolerance\n",
    "        is_invariant = deviation.get() < 1e-6  # .get() to bring the result back to CPU\n",
    "        results[angle] = (is_invariant, deviation.get())\n",
    "    \n",
    "    return results"
   ]
  },
  {
   "cell_type": "code",
   "execution_count": 7,
   "id": "bd06b161",
   "metadata": {},
   "outputs": [],
   "source": [
    "def test_rotation_invariance_parallel_gpu(images, max_degree, fractional_parameter_t, angles=[30, 45, 90, 180]):\n",
    "    \"\"\"\n",
    "    Tests rotation invariance for multiple images in parallel using GPU and calculates deviations.\n",
    "    \n",
    "    Parameters:\n",
    "        images (list of numpy arrays): List of images to test.\n",
    "        max_degree (int): Maximum degree for the FrCHFM calculation.\n",
    "        fractional_parameter_t (float): Fractional parameter for FrCHFM.\n",
    "        angles (list): List of angles to rotate each image for testing.\n",
    "        \n",
    "    Returns:\n",
    "        overall_results (dict): A dictionary where keys are image indices and values are dictionaries\n",
    "                                of angle results, each with (is_invariant, deviation).\n",
    "    \"\"\"\n",
    "    overall_results = {}\n",
    "    with ThreadPoolExecutor() as executor:\n",
    "        futures = {\n",
    "            executor.submit(rotate_and_compare_gpu, img, max_degree, fractional_parameter_t, angles): idx\n",
    "            for idx, img in enumerate(images)\n",
    "        }\n",
    "        \n",
    "        # Use tqdm to show progress\n",
    "        for future in tqdm(as_completed(futures), total=len(futures), desc=\"Processing Images\"):\n",
    "            idx = futures[future]\n",
    "            try:\n",
    "                result = future.result()\n",
    "                overall_results[idx] = result\n",
    "            except Exception as e:\n",
    "                print(f\"Image {idx} failed with exception: {e}\")\n",
    "    \n",
    "    return overall_results\n"
   ]
  },
  {
   "cell_type": "code",
   "execution_count": 9,
   "id": "5af09a0a",
   "metadata": {},
   "outputs": [
    {
     "name": "stderr",
     "output_type": "stream",
     "text": [
      "Processing Images: 100%|█████████████████████████████████████████████████████████████████| 6/6 [00:00<00:00, 10.29it/s]"
     ]
    },
    {
     "name": "stdout",
     "output_type": "stream",
     "text": [
      "{2: {30: (False, array(1944645.4008759)), 45: (False, array(2101723.30803168)), 90: (False, array(3859438.99431021)), 180: (False, array(12542447.49856944))}, 5: {30: (False, array(3519462.96983303)), 45: (False, array(3488766.37517225)), 90: (False, array(2831392.532065)), 180: (False, array(9400696.4476279))}, 1: {30: (False, array(1878553.29820957)), 45: (False, array(1945186.99760449)), 90: (False, array(3057659.9628074)), 180: (False, array(10161919.68954696))}, 3: {30: (False, array(2384750.91733986)), 45: (False, array(2460790.38419813)), 90: (False, array(3308560.38077383)), 180: (False, array(11645459.02709348))}, 4: {30: (False, array(1778007.92590652)), 45: (False, array(1752855.64348764)), 90: (False, array(3159438.72687631)), 180: (False, array(12108334.2867292))}, 0: {30: (False, array(2494188.35585317)), 45: (False, array(2471303.65096653)), 90: (False, array(2616284.24405334)), 180: (False, array(5154355.40099041))}}\n"
     ]
    },
    {
     "name": "stderr",
     "output_type": "stream",
     "text": [
      "\n"
     ]
    }
   ],
   "source": [
    "# Directory containing the images\n",
    "image_folder = \"cs4485-images\"\n",
    "# Parameters for FrCHFM calculation\n",
    "max_degree = 5  # Change depending on desired precision\n",
    "fractional_parameter_t = 0.5  # Fractional parameter t\n",
    "\n",
    "\n",
    "# Load all images from the folder\n",
    "images = [cv2.imread(os.path.join(image_folder, filename), cv2.IMREAD_GRAYSCALE)\n",
    "          for filename in os.listdir(image_folder) if filename.endswith(('.png', '.jpg', '.jpeg'))][:6]\n",
    "\n",
    "# Run the parallel rotation invariance test\n",
    "results = test_rotation_invariance_parallel_gpu(images, max_degree, fractional_parameter_t)\n",
    "\n",
    "# Print the results\n",
    "print(results)"
   ]
  },
  {
   "cell_type": "code",
   "execution_count": null,
   "id": "d52f1fad",
   "metadata": {},
   "outputs": [],
   "source": []
  }
 ],
 "metadata": {
  "kernelspec": {
   "display_name": "Python 3 (ipykernel)",
   "language": "python",
   "name": "python3"
  },
  "language_info": {
   "codemirror_mode": {
    "name": "ipython",
    "version": 3
   },
   "file_extension": ".py",
   "mimetype": "text/x-python",
   "name": "python",
   "nbconvert_exporter": "python",
   "pygments_lexer": "ipython3",
   "version": "3.11.5"
  }
 },
 "nbformat": 4,
 "nbformat_minor": 5
}
